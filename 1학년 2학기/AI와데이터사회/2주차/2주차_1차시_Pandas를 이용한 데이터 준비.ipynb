{
 "cells": [
  {
   "cell_type": "markdown",
   "id": "93d7d198",
   "metadata": {},
   "source": [
    "# Pandas를 이용한 데이터 준비"
   ]
  },
  {
   "cell_type": "markdown",
   "id": "de549c63",
   "metadata": {},
   "source": [
    "### DataFrame: 행과 열로 구성된 일종의 스프레드시트"
   ]
  },
  {
   "cell_type": "code",
   "execution_count": 2,
   "id": "26c85412",
   "metadata": {},
   "outputs": [
    {
     "data": {
      "text/html": [
       "<div>\n",
       "<style scoped>\n",
       "    .dataframe tbody tr th:only-of-type {\n",
       "        vertical-align: middle;\n",
       "    }\n",
       "\n",
       "    .dataframe tbody tr th {\n",
       "        vertical-align: top;\n",
       "    }\n",
       "\n",
       "    .dataframe thead th {\n",
       "        text-align: right;\n",
       "    }\n",
       "</style>\n",
       "<table border=\"1\" class=\"dataframe\">\n",
       "  <thead>\n",
       "    <tr style=\"text-align: right;\">\n",
       "      <th></th>\n",
       "      <th>학번</th>\n",
       "      <th>이름</th>\n",
       "      <th>학과</th>\n",
       "    </tr>\n",
       "  </thead>\n",
       "  <tbody>\n",
       "    <tr>\n",
       "      <th>0</th>\n",
       "      <td>20211021</td>\n",
       "      <td>박형식</td>\n",
       "      <td>영어영문학과</td>\n",
       "    </tr>\n",
       "    <tr>\n",
       "      <th>1</th>\n",
       "      <td>20205412</td>\n",
       "      <td>공유</td>\n",
       "      <td>화학과</td>\n",
       "    </tr>\n",
       "    <tr>\n",
       "      <th>2</th>\n",
       "      <td>20210578</td>\n",
       "      <td>아이유</td>\n",
       "      <td>수학과</td>\n",
       "    </tr>\n",
       "  </tbody>\n",
       "</table>\n",
       "</div>"
      ],
      "text/plain": [
       "         학번   이름      학과\n",
       "0  20211021  박형식  영어영문학과\n",
       "1  20205412   공유     화학과\n",
       "2  20210578  아이유     수학과"
      ]
     },
     "execution_count": 2,
     "metadata": {},
     "output_type": "execute_result"
    }
   ],
   "source": [
    "import pandas as pd\n",
    "\n",
    "no = [20211021, 20205412, 20210578]\n",
    "name = [\"박형식\", '공유', '아이유']\n",
    "major = ['영어영문학과', '화학과', '수학과']\n",
    "\n",
    "df = pd.DataFrame({'학번': no, '이름': name, '학과': major})\n",
    "df"
   ]
  },
  {
   "cell_type": "code",
   "execution_count": 4,
   "id": "5472e3d5",
   "metadata": {},
   "outputs": [
    {
     "data": {
      "text/html": [
       "<div>\n",
       "<style scoped>\n",
       "    .dataframe tbody tr th:only-of-type {\n",
       "        vertical-align: middle;\n",
       "    }\n",
       "\n",
       "    .dataframe tbody tr th {\n",
       "        vertical-align: top;\n",
       "    }\n",
       "\n",
       "    .dataframe thead th {\n",
       "        text-align: right;\n",
       "    }\n",
       "</style>\n",
       "<table border=\"1\" class=\"dataframe\">\n",
       "  <thead>\n",
       "    <tr style=\"text-align: right;\">\n",
       "      <th></th>\n",
       "      <th>학번</th>\n",
       "      <th>이름</th>\n",
       "      <th>학과</th>\n",
       "    </tr>\n",
       "  </thead>\n",
       "  <tbody>\n",
       "    <tr>\n",
       "      <th>0</th>\n",
       "      <td>20211021</td>\n",
       "      <td>박형식</td>\n",
       "      <td>영어영문학과</td>\n",
       "    </tr>\n",
       "    <tr>\n",
       "      <th>1</th>\n",
       "      <td>20205412</td>\n",
       "      <td>공유</td>\n",
       "      <td>화학과</td>\n",
       "    </tr>\n",
       "    <tr>\n",
       "      <th>2</th>\n",
       "      <td>20210578</td>\n",
       "      <td>아이유</td>\n",
       "      <td>수학과</td>\n",
       "    </tr>\n",
       "  </tbody>\n",
       "</table>\n",
       "</div>"
      ],
      "text/plain": [
       "         학번   이름      학과\n",
       "0  20211021  박형식  영어영문학과\n",
       "1  20205412   공유     화학과\n",
       "2  20210578  아이유     수학과"
      ]
     },
     "execution_count": 4,
     "metadata": {},
     "output_type": "execute_result"
    }
   ],
   "source": [
    "AI_Class = [[20211021, '박형식', '영어영문학과'], [20205412, '공유', '화학과'], [20210578, '아이유', '수학과']]\n",
    "\n",
    "df = pd.DataFrame(AI_Class, columns = ['학번', '이름', '학과'])\n",
    "df"
   ]
  },
  {
   "cell_type": "code",
   "execution_count": 6,
   "id": "dbaae09c",
   "metadata": {},
   "outputs": [
    {
     "data": {
      "text/html": [
       "<div>\n",
       "<style scoped>\n",
       "    .dataframe tbody tr th:only-of-type {\n",
       "        vertical-align: middle;\n",
       "    }\n",
       "\n",
       "    .dataframe tbody tr th {\n",
       "        vertical-align: top;\n",
       "    }\n",
       "\n",
       "    .dataframe thead th {\n",
       "        text-align: right;\n",
       "    }\n",
       "</style>\n",
       "<table border=\"1\" class=\"dataframe\">\n",
       "  <thead>\n",
       "    <tr style=\"text-align: right;\">\n",
       "      <th></th>\n",
       "      <th>학번</th>\n",
       "      <th>이름</th>\n",
       "      <th>학과</th>\n",
       "    </tr>\n",
       "  </thead>\n",
       "  <tbody>\n",
       "    <tr>\n",
       "      <th>0</th>\n",
       "      <td>20211021</td>\n",
       "      <td>박형식</td>\n",
       "      <td>영어영문학과</td>\n",
       "    </tr>\n",
       "    <tr>\n",
       "      <th>1</th>\n",
       "      <td>20205412</td>\n",
       "      <td>공유</td>\n",
       "      <td>화학과</td>\n",
       "    </tr>\n",
       "    <tr>\n",
       "      <th>2</th>\n",
       "      <td>20210578</td>\n",
       "      <td>아이유</td>\n",
       "      <td>수학과</td>\n",
       "    </tr>\n",
       "  </tbody>\n",
       "</table>\n",
       "</div>"
      ],
      "text/plain": [
       "         학번   이름      학과\n",
       "0  20211021  박형식  영어영문학과\n",
       "1  20205412   공유     화학과\n",
       "2  20210578  아이유     수학과"
      ]
     },
     "execution_count": 6,
     "metadata": {},
     "output_type": "execute_result"
    }
   ],
   "source": [
    "df = pd.DataFrame([[20211021, '박형식', '영어영문학과'], [20205412, '공유', '화학과'], [20210578, '아이유', '수학과']], columns = ['학번', '이름', '학과'])\n",
    "df"
   ]
  },
  {
   "cell_type": "markdown",
   "id": "0279153b",
   "metadata": {},
   "source": [
    "# txt, csv 파일 불러오기"
   ]
  },
  {
   "cell_type": "markdown",
   "id": "13e4b2cb",
   "metadata": {},
   "source": [
    "### CSV/ 콤마(,)로 구분된 파일"
   ]
  },
  {
   "cell_type": "code",
   "execution_count": 8,
   "id": "f64c69ec",
   "metadata": {},
   "outputs": [
    {
     "name": "stdout",
     "output_type": "stream",
     "text": [
      "   name   score   absent\n",
      "0   kim      95        3\n",
      "1  choi     100        0\n",
      "2   lee      90        2\n",
      "3  park      85        1\n",
      "4   cho      77        5\n"
     ]
    }
   ],
   "source": [
    "df = pd.read_csv('C:/Users/won/exam1.txt')\n",
    "print(df)"
   ]
  },
  {
   "cell_type": "markdown",
   "id": "4ce6685b",
   "metadata": {},
   "source": [
    "### CSV/ 탭(tab)으로 구분된 파일"
   ]
  },
  {
   "cell_type": "code",
   "execution_count": 9,
   "id": "6c76761e",
   "metadata": {},
   "outputs": [
    {
     "name": "stdout",
     "output_type": "stream",
     "text": [
      "   name  score  absent\n",
      "0   kim     95       3\n",
      "1  choi    100       0\n",
      "2   lee     90       2\n",
      "3  park     85       1\n",
      "4   cho     77       5\n"
     ]
    }
   ],
   "source": [
    "df = pd.read_csv('C:/Users/won/exam2.txt', delimiter = \"\\t\")\n",
    "print(df)"
   ]
  },
  {
   "cell_type": "markdown",
   "id": "8eca3810",
   "metadata": {},
   "source": [
    "### CSV/ 쉼표(,)로 구분되고 헤더가 없는 파일"
   ]
  },
  {
   "cell_type": "code",
   "execution_count": 11,
   "id": "5ac37d7a",
   "metadata": {},
   "outputs": [
    {
     "name": "stdout",
     "output_type": "stream",
     "text": [
      "      0    1  2\n",
      "0   kim   95  3\n",
      "1  choi  100  0\n",
      "2   lee   90  2\n",
      "3  park   85  1\n",
      "4   cho   77  5\n"
     ]
    }
   ],
   "source": [
    "df = pd.read_csv('C:/Users/won/exam3.txt', delimiter = \",\", header = None)\n",
    "print(df)"
   ]
  },
  {
   "cell_type": "markdown",
   "id": "d1897d09",
   "metadata": {},
   "source": [
    "# Excel 파일 불러오기"
   ]
  },
  {
   "cell_type": "markdown",
   "id": "e36211fd",
   "metadata": {},
   "source": [
    "### Excel 데이터 가져와서 출력하기"
   ]
  },
  {
   "cell_type": "code",
   "execution_count": 12,
   "id": "8c33a055",
   "metadata": {},
   "outputs": [
    {
     "data": {
      "text/html": [
       "<div>\n",
       "<style scoped>\n",
       "    .dataframe tbody tr th:only-of-type {\n",
       "        vertical-align: middle;\n",
       "    }\n",
       "\n",
       "    .dataframe tbody tr th {\n",
       "        vertical-align: top;\n",
       "    }\n",
       "\n",
       "    .dataframe thead th {\n",
       "        text-align: right;\n",
       "    }\n",
       "</style>\n",
       "<table border=\"1\" class=\"dataframe\">\n",
       "  <thead>\n",
       "    <tr style=\"text-align: right;\">\n",
       "      <th></th>\n",
       "      <th>연도</th>\n",
       "      <th>출생아수</th>\n",
       "      <th>천명당출생률</th>\n",
       "    </tr>\n",
       "  </thead>\n",
       "  <tbody>\n",
       "    <tr>\n",
       "      <th>0</th>\n",
       "      <td>1951</td>\n",
       "      <td>728175</td>\n",
       "      <td>37.7</td>\n",
       "    </tr>\n",
       "    <tr>\n",
       "      <th>1</th>\n",
       "      <td>1952</td>\n",
       "      <td>775630</td>\n",
       "      <td>39.6</td>\n",
       "    </tr>\n",
       "    <tr>\n",
       "      <th>2</th>\n",
       "      <td>1953</td>\n",
       "      <td>830330</td>\n",
       "      <td>41.6</td>\n",
       "    </tr>\n",
       "    <tr>\n",
       "      <th>3</th>\n",
       "      <td>1954</td>\n",
       "      <td>892236</td>\n",
       "      <td>43.4</td>\n",
       "    </tr>\n",
       "    <tr>\n",
       "      <th>4</th>\n",
       "      <td>1955</td>\n",
       "      <td>961055</td>\n",
       "      <td>45.4</td>\n",
       "    </tr>\n",
       "    <tr>\n",
       "      <th>...</th>\n",
       "      <td>...</td>\n",
       "      <td>...</td>\n",
       "      <td>...</td>\n",
       "    </tr>\n",
       "    <tr>\n",
       "      <th>63</th>\n",
       "      <td>2014</td>\n",
       "      <td>435435</td>\n",
       "      <td>8.6</td>\n",
       "    </tr>\n",
       "    <tr>\n",
       "      <th>64</th>\n",
       "      <td>2015</td>\n",
       "      <td>438420</td>\n",
       "      <td>8.6</td>\n",
       "    </tr>\n",
       "    <tr>\n",
       "      <th>65</th>\n",
       "      <td>2016</td>\n",
       "      <td>406243</td>\n",
       "      <td>7.9</td>\n",
       "    </tr>\n",
       "    <tr>\n",
       "      <th>66</th>\n",
       "      <td>2017</td>\n",
       "      <td>357771</td>\n",
       "      <td>7.0</td>\n",
       "    </tr>\n",
       "    <tr>\n",
       "      <th>67</th>\n",
       "      <td>2018</td>\n",
       "      <td>326900</td>\n",
       "      <td>6.4</td>\n",
       "    </tr>\n",
       "  </tbody>\n",
       "</table>\n",
       "<p>68 rows × 3 columns</p>\n",
       "</div>"
      ],
      "text/plain": [
       "      연도    출생아수  천명당출생률\n",
       "0   1951  728175    37.7\n",
       "1   1952  775630    39.6\n",
       "2   1953  830330    41.6\n",
       "3   1954  892236    43.4\n",
       "4   1955  961055    45.4\n",
       "..   ...     ...     ...\n",
       "63  2014  435435     8.6\n",
       "64  2015  438420     8.6\n",
       "65  2016  406243     7.9\n",
       "66  2017  357771     7.0\n",
       "67  2018  326900     6.4\n",
       "\n",
       "[68 rows x 3 columns]"
      ]
     },
     "execution_count": 12,
     "metadata": {},
     "output_type": "execute_result"
    }
   ],
   "source": [
    "birthData = pd.read_excel(\"C:/Users/won/연도별출생인구.xlsx\")\n",
    "birthData"
   ]
  },
  {
   "cell_type": "markdown",
   "id": "5a930908",
   "metadata": {},
   "source": [
    "### info 함수로 데이터 파악하기"
   ]
  },
  {
   "cell_type": "code",
   "execution_count": 13,
   "id": "e6d5931f",
   "metadata": {},
   "outputs": [
    {
     "name": "stdout",
     "output_type": "stream",
     "text": [
      "<class 'pandas.core.frame.DataFrame'>\n",
      "RangeIndex: 68 entries, 0 to 67\n",
      "Data columns (total 3 columns):\n",
      " #   Column  Non-Null Count  Dtype  \n",
      "---  ------  --------------  -----  \n",
      " 0   연도      68 non-null     int64  \n",
      " 1   출생아수    68 non-null     int64  \n",
      " 2   천명당출생률  68 non-null     float64\n",
      "dtypes: float64(1), int64(2)\n",
      "memory usage: 1.7 KB\n"
     ]
    }
   ],
   "source": [
    "birthData.info()"
   ]
  },
  {
   "cell_type": "markdown",
   "id": "72527568",
   "metadata": {},
   "source": [
    "### describe 함수로 데이터 파악하기"
   ]
  },
  {
   "cell_type": "code",
   "execution_count": 14,
   "id": "e59dc4bf",
   "metadata": {},
   "outputs": [
    {
     "data": {
      "text/html": [
       "<div>\n",
       "<style scoped>\n",
       "    .dataframe tbody tr th:only-of-type {\n",
       "        vertical-align: middle;\n",
       "    }\n",
       "\n",
       "    .dataframe tbody tr th {\n",
       "        vertical-align: top;\n",
       "    }\n",
       "\n",
       "    .dataframe thead th {\n",
       "        text-align: right;\n",
       "    }\n",
       "</style>\n",
       "<table border=\"1\" class=\"dataframe\">\n",
       "  <thead>\n",
       "    <tr style=\"text-align: right;\">\n",
       "      <th></th>\n",
       "      <th>연도</th>\n",
       "      <th>출생아수</th>\n",
       "      <th>천명당출생률</th>\n",
       "    </tr>\n",
       "  </thead>\n",
       "  <tbody>\n",
       "    <tr>\n",
       "      <th>count</th>\n",
       "      <td>68.00000</td>\n",
       "      <td>6.800000e+01</td>\n",
       "      <td>68.000000</td>\n",
       "    </tr>\n",
       "    <tr>\n",
       "      <th>mean</th>\n",
       "      <td>1984.50000</td>\n",
       "      <td>7.451443e+05</td>\n",
       "      <td>22.483824</td>\n",
       "    </tr>\n",
       "    <tr>\n",
       "      <th>std</th>\n",
       "      <td>19.77372</td>\n",
       "      <td>2.271235e+05</td>\n",
       "      <td>12.619395</td>\n",
       "    </tr>\n",
       "    <tr>\n",
       "      <th>min</th>\n",
       "      <td>1951.00000</td>\n",
       "      <td>3.269000e+05</td>\n",
       "      <td>6.400000</td>\n",
       "    </tr>\n",
       "    <tr>\n",
       "      <th>25%</th>\n",
       "      <td>1967.75000</td>\n",
       "      <td>5.394685e+05</td>\n",
       "      <td>11.250000</td>\n",
       "    </tr>\n",
       "    <tr>\n",
       "      <th>50%</th>\n",
       "      <td>1984.50000</td>\n",
       "      <td>7.246800e+05</td>\n",
       "      <td>16.700000</td>\n",
       "    </tr>\n",
       "    <tr>\n",
       "      <th>75%</th>\n",
       "      <td>2001.25000</td>\n",
       "      <td>9.621715e+05</td>\n",
       "      <td>33.225000</td>\n",
       "    </tr>\n",
       "    <tr>\n",
       "      <th>max</th>\n",
       "      <td>2018.00000</td>\n",
       "      <td>1.099294e+06</td>\n",
       "      <td>45.400000</td>\n",
       "    </tr>\n",
       "  </tbody>\n",
       "</table>\n",
       "</div>"
      ],
      "text/plain": [
       "               연도          출생아수     천명당출생률\n",
       "count    68.00000  6.800000e+01  68.000000\n",
       "mean   1984.50000  7.451443e+05  22.483824\n",
       "std      19.77372  2.271235e+05  12.619395\n",
       "min    1951.00000  3.269000e+05   6.400000\n",
       "25%    1967.75000  5.394685e+05  11.250000\n",
       "50%    1984.50000  7.246800e+05  16.700000\n",
       "75%    2001.25000  9.621715e+05  33.225000\n",
       "max    2018.00000  1.099294e+06  45.400000"
      ]
     },
     "execution_count": 14,
     "metadata": {},
     "output_type": "execute_result"
    }
   ],
   "source": [
    "birthData.describe()"
   ]
  },
  {
   "cell_type": "markdown",
   "id": "98076d09",
   "metadata": {},
   "source": [
    "# 행과 열 일부 선택하기"
   ]
  },
  {
   "cell_type": "markdown",
   "id": "4d63e71a",
   "metadata": {},
   "source": [
    "### 특정 레코드 선택하기, 인덱스(index)를 활용한 슬라이싱(Slicing) 방식"
   ]
  },
  {
   "cell_type": "code",
   "execution_count": 15,
   "id": "5c4dffb4",
   "metadata": {},
   "outputs": [
    {
     "data": {
      "text/html": [
       "<div>\n",
       "<style scoped>\n",
       "    .dataframe tbody tr th:only-of-type {\n",
       "        vertical-align: middle;\n",
       "    }\n",
       "\n",
       "    .dataframe tbody tr th {\n",
       "        vertical-align: top;\n",
       "    }\n",
       "\n",
       "    .dataframe thead th {\n",
       "        text-align: right;\n",
       "    }\n",
       "</style>\n",
       "<table border=\"1\" class=\"dataframe\">\n",
       "  <thead>\n",
       "    <tr style=\"text-align: right;\">\n",
       "      <th></th>\n",
       "      <th>연도</th>\n",
       "      <th>출생아수</th>\n",
       "      <th>천명당출생률</th>\n",
       "    </tr>\n",
       "  </thead>\n",
       "  <tbody>\n",
       "    <tr>\n",
       "      <th>0</th>\n",
       "      <td>1951</td>\n",
       "      <td>728175</td>\n",
       "      <td>37.7</td>\n",
       "    </tr>\n",
       "    <tr>\n",
       "      <th>1</th>\n",
       "      <td>1952</td>\n",
       "      <td>775630</td>\n",
       "      <td>39.6</td>\n",
       "    </tr>\n",
       "    <tr>\n",
       "      <th>2</th>\n",
       "      <td>1953</td>\n",
       "      <td>830330</td>\n",
       "      <td>41.6</td>\n",
       "    </tr>\n",
       "  </tbody>\n",
       "</table>\n",
       "</div>"
      ],
      "text/plain": [
       "     연도    출생아수  천명당출생률\n",
       "0  1951  728175    37.7\n",
       "1  1952  775630    39.6\n",
       "2  1953  830330    41.6"
      ]
     },
     "execution_count": 15,
     "metadata": {},
     "output_type": "execute_result"
    }
   ],
   "source": [
    "birthData[0:3]"
   ]
  },
  {
   "cell_type": "code",
   "execution_count": 16,
   "id": "104d2f8d",
   "metadata": {},
   "outputs": [
    {
     "data": {
      "text/html": [
       "<div>\n",
       "<style scoped>\n",
       "    .dataframe tbody tr th:only-of-type {\n",
       "        vertical-align: middle;\n",
       "    }\n",
       "\n",
       "    .dataframe tbody tr th {\n",
       "        vertical-align: top;\n",
       "    }\n",
       "\n",
       "    .dataframe thead th {\n",
       "        text-align: right;\n",
       "    }\n",
       "</style>\n",
       "<table border=\"1\" class=\"dataframe\">\n",
       "  <thead>\n",
       "    <tr style=\"text-align: right;\">\n",
       "      <th></th>\n",
       "      <th>연도</th>\n",
       "      <th>출생아수</th>\n",
       "      <th>천명당출생률</th>\n",
       "    </tr>\n",
       "  </thead>\n",
       "  <tbody>\n",
       "    <tr>\n",
       "      <th>50</th>\n",
       "      <td>2001</td>\n",
       "      <td>554895</td>\n",
       "      <td>11.6</td>\n",
       "    </tr>\n",
       "    <tr>\n",
       "      <th>51</th>\n",
       "      <td>2002</td>\n",
       "      <td>492111</td>\n",
       "      <td>10.2</td>\n",
       "    </tr>\n",
       "    <tr>\n",
       "      <th>52</th>\n",
       "      <td>2003</td>\n",
       "      <td>490543</td>\n",
       "      <td>10.2</td>\n",
       "    </tr>\n",
       "    <tr>\n",
       "      <th>53</th>\n",
       "      <td>2004</td>\n",
       "      <td>472761</td>\n",
       "      <td>9.8</td>\n",
       "    </tr>\n",
       "    <tr>\n",
       "      <th>54</th>\n",
       "      <td>2005</td>\n",
       "      <td>435031</td>\n",
       "      <td>8.9</td>\n",
       "    </tr>\n",
       "  </tbody>\n",
       "</table>\n",
       "</div>"
      ],
      "text/plain": [
       "      연도    출생아수  천명당출생률\n",
       "50  2001  554895    11.6\n",
       "51  2002  492111    10.2\n",
       "52  2003  490543    10.2\n",
       "53  2004  472761     9.8\n",
       "54  2005  435031     8.9"
      ]
     },
     "execution_count": 16,
     "metadata": {},
     "output_type": "execute_result"
    }
   ],
   "source": [
    "birthData[50:55]"
   ]
  },
  {
   "cell_type": "code",
   "execution_count": 17,
   "id": "c989faf9",
   "metadata": {},
   "outputs": [
    {
     "data": {
      "text/html": [
       "<div>\n",
       "<style scoped>\n",
       "    .dataframe tbody tr th:only-of-type {\n",
       "        vertical-align: middle;\n",
       "    }\n",
       "\n",
       "    .dataframe tbody tr th {\n",
       "        vertical-align: top;\n",
       "    }\n",
       "\n",
       "    .dataframe thead th {\n",
       "        text-align: right;\n",
       "    }\n",
       "</style>\n",
       "<table border=\"1\" class=\"dataframe\">\n",
       "  <thead>\n",
       "    <tr style=\"text-align: right;\">\n",
       "      <th></th>\n",
       "      <th>연도</th>\n",
       "      <th>출생아수</th>\n",
       "      <th>천명당출생률</th>\n",
       "    </tr>\n",
       "  </thead>\n",
       "  <tbody>\n",
       "    <tr>\n",
       "      <th>0</th>\n",
       "      <td>1951</td>\n",
       "      <td>728175</td>\n",
       "      <td>37.7</td>\n",
       "    </tr>\n",
       "    <tr>\n",
       "      <th>1</th>\n",
       "      <td>1952</td>\n",
       "      <td>775630</td>\n",
       "      <td>39.6</td>\n",
       "    </tr>\n",
       "    <tr>\n",
       "      <th>2</th>\n",
       "      <td>1953</td>\n",
       "      <td>830330</td>\n",
       "      <td>41.6</td>\n",
       "    </tr>\n",
       "    <tr>\n",
       "      <th>3</th>\n",
       "      <td>1954</td>\n",
       "      <td>892236</td>\n",
       "      <td>43.4</td>\n",
       "    </tr>\n",
       "  </tbody>\n",
       "</table>\n",
       "</div>"
      ],
      "text/plain": [
       "     연도    출생아수  천명당출생률\n",
       "0  1951  728175    37.7\n",
       "1  1952  775630    39.6\n",
       "2  1953  830330    41.6\n",
       "3  1954  892236    43.4"
      ]
     },
     "execution_count": 17,
     "metadata": {},
     "output_type": "execute_result"
    }
   ],
   "source": [
    "birthData[:4]"
   ]
  },
  {
   "cell_type": "code",
   "execution_count": 18,
   "id": "ee5e15c5",
   "metadata": {
    "scrolled": true
   },
   "outputs": [
    {
     "data": {
      "text/html": [
       "<div>\n",
       "<style scoped>\n",
       "    .dataframe tbody tr th:only-of-type {\n",
       "        vertical-align: middle;\n",
       "    }\n",
       "\n",
       "    .dataframe tbody tr th {\n",
       "        vertical-align: top;\n",
       "    }\n",
       "\n",
       "    .dataframe thead th {\n",
       "        text-align: right;\n",
       "    }\n",
       "</style>\n",
       "<table border=\"1\" class=\"dataframe\">\n",
       "  <thead>\n",
       "    <tr style=\"text-align: right;\">\n",
       "      <th></th>\n",
       "      <th>연도</th>\n",
       "      <th>출생아수</th>\n",
       "      <th>천명당출생률</th>\n",
       "    </tr>\n",
       "  </thead>\n",
       "  <tbody>\n",
       "    <tr>\n",
       "      <th>65</th>\n",
       "      <td>2016</td>\n",
       "      <td>406243</td>\n",
       "      <td>7.9</td>\n",
       "    </tr>\n",
       "    <tr>\n",
       "      <th>66</th>\n",
       "      <td>2017</td>\n",
       "      <td>357771</td>\n",
       "      <td>7.0</td>\n",
       "    </tr>\n",
       "    <tr>\n",
       "      <th>67</th>\n",
       "      <td>2018</td>\n",
       "      <td>326900</td>\n",
       "      <td>6.4</td>\n",
       "    </tr>\n",
       "  </tbody>\n",
       "</table>\n",
       "</div>"
      ],
      "text/plain": [
       "      연도    출생아수  천명당출생률\n",
       "65  2016  406243     7.9\n",
       "66  2017  357771     7.0\n",
       "67  2018  326900     6.4"
      ]
     },
     "execution_count": 18,
     "metadata": {},
     "output_type": "execute_result"
    }
   ],
   "source": [
    "birthData[65:]"
   ]
  },
  {
   "cell_type": "markdown",
   "id": "f7165cee",
   "metadata": {},
   "source": [
    "### 특정 칼럼(열) 선택하기"
   ]
  },
  {
   "cell_type": "markdown",
   "id": "7d218326",
   "metadata": {},
   "source": [
    "##### [방식 1]"
   ]
  },
  {
   "cell_type": "code",
   "execution_count": 19,
   "id": "62d2f17a",
   "metadata": {},
   "outputs": [
    {
     "data": {
      "text/plain": [
       "0     1951\n",
       "1     1952\n",
       "2     1953\n",
       "3     1954\n",
       "4     1955\n",
       "      ... \n",
       "63    2014\n",
       "64    2015\n",
       "65    2016\n",
       "66    2017\n",
       "67    2018\n",
       "Name: 연도, Length: 68, dtype: int64"
      ]
     },
     "execution_count": 19,
     "metadata": {},
     "output_type": "execute_result"
    }
   ],
   "source": [
    "birthData.연도"
   ]
  },
  {
   "cell_type": "code",
   "execution_count": 20,
   "id": "c773749d",
   "metadata": {},
   "outputs": [
    {
     "data": {
      "text/plain": [
       "0     728175\n",
       "1     775630\n",
       "2     830330\n",
       "3     892236\n",
       "4     961055\n",
       "       ...  \n",
       "63    435435\n",
       "64    438420\n",
       "65    406243\n",
       "66    357771\n",
       "67    326900\n",
       "Name: 출생아수, Length: 68, dtype: int64"
      ]
     },
     "execution_count": 20,
     "metadata": {},
     "output_type": "execute_result"
    }
   ],
   "source": [
    "birthData.출생아수"
   ]
  },
  {
   "cell_type": "markdown",
   "id": "c0ad4dfd",
   "metadata": {},
   "source": [
    "##### [방식 2: 따옴표, 칼럼 이름에 띄어쓰기가 있는 경우]"
   ]
  },
  {
   "cell_type": "code",
   "execution_count": 21,
   "id": "5fc31071",
   "metadata": {},
   "outputs": [
    {
     "data": {
      "text/plain": [
       "0     1951\n",
       "1     1952\n",
       "2     1953\n",
       "3     1954\n",
       "4     1955\n",
       "      ... \n",
       "63    2014\n",
       "64    2015\n",
       "65    2016\n",
       "66    2017\n",
       "67    2018\n",
       "Name: 연도, Length: 68, dtype: int64"
      ]
     },
     "execution_count": 21,
     "metadata": {},
     "output_type": "execute_result"
    }
   ],
   "source": [
    "birthData[\"연도\"]"
   ]
  },
  {
   "cell_type": "code",
   "execution_count": 25,
   "id": "03fb0422",
   "metadata": {},
   "outputs": [
    {
     "data": {
      "text/plain": [
       "0     37.7\n",
       "1     39.6\n",
       "2     41.6\n",
       "3     43.4\n",
       "4     45.4\n",
       "      ... \n",
       "63     8.6\n",
       "64     8.6\n",
       "65     7.9\n",
       "66     7.0\n",
       "67     6.4\n",
       "Name: 천명당출생률, Length: 68, dtype: float64"
      ]
     },
     "execution_count": 25,
     "metadata": {},
     "output_type": "execute_result"
    }
   ],
   "source": [
    "birthData[\"천명당출생률\"]"
   ]
  },
  {
   "cell_type": "markdown",
   "id": "964105ab",
   "metadata": {},
   "source": [
    "### 행과 열 선택하기"
   ]
  },
  {
   "cell_type": "markdown",
   "id": "96676dd9",
   "metadata": {},
   "source": [
    "##### [방식 1]"
   ]
  },
  {
   "cell_type": "code",
   "execution_count": 26,
   "id": "e1bbfcdd",
   "metadata": {},
   "outputs": [
    {
     "data": {
      "text/plain": [
       "0    1951\n",
       "1    1952\n",
       "2    1953\n",
       "3    1954\n",
       "4    1955\n",
       "Name: 연도, dtype: int64"
      ]
     },
     "execution_count": 26,
     "metadata": {},
     "output_type": "execute_result"
    }
   ],
   "source": [
    "birthData.연도[0:5]"
   ]
  },
  {
   "cell_type": "markdown",
   "id": "762e20be",
   "metadata": {},
   "source": [
    "##### [방식 2]"
   ]
  },
  {
   "cell_type": "code",
   "execution_count": 31,
   "id": "57bd6daf",
   "metadata": {},
   "outputs": [
    {
     "data": {
      "text/plain": [
       "0    1951\n",
       "1    1952\n",
       "2    1953\n",
       "3    1954\n",
       "4    1955\n",
       "Name: 연도, dtype: int64"
      ]
     },
     "execution_count": 31,
     "metadata": {},
     "output_type": "execute_result"
    }
   ],
   "source": [
    "birthData[\"연도\"][0:5]"
   ]
  },
  {
   "cell_type": "markdown",
   "id": "1b0be3b6",
   "metadata": {},
   "source": [
    "##### [방식 1]"
   ]
  },
  {
   "cell_type": "code",
   "execution_count": 32,
   "id": "958c856b",
   "metadata": {},
   "outputs": [
    {
     "data": {
      "text/plain": [
       "10    1099164\n",
       "11    1089951\n",
       "12    1075203\n",
       "13    1057241\n",
       "14    1040544\n",
       "Name: 출생아수, dtype: int64"
      ]
     },
     "execution_count": 32,
     "metadata": {},
     "output_type": "execute_result"
    }
   ],
   "source": [
    "birthData.출생아수[10:15]"
   ]
  },
  {
   "cell_type": "markdown",
   "id": "29d49963",
   "metadata": {},
   "source": [
    "##### [방식 2]"
   ]
  },
  {
   "cell_type": "code",
   "execution_count": 33,
   "id": "baf00338",
   "metadata": {},
   "outputs": [
    {
     "data": {
      "text/plain": [
       "10    1099164\n",
       "11    1089951\n",
       "12    1075203\n",
       "13    1057241\n",
       "14    1040544\n",
       "Name: 출생아수, dtype: int64"
      ]
     },
     "execution_count": 33,
     "metadata": {},
     "output_type": "execute_result"
    }
   ],
   "source": [
    "birthData[\"출생아수\"][10:15]"
   ]
  },
  {
   "cell_type": "markdown",
   "id": "5cbc9316",
   "metadata": {},
   "source": [
    "### 여러 개의 칼럼(열 선택하기)"
   ]
  },
  {
   "cell_type": "markdown",
   "id": "d52864a3",
   "metadata": {},
   "source": [
    "##### 대괄호가 2개 사용"
   ]
  },
  {
   "cell_type": "code",
   "execution_count": 34,
   "id": "b4d10fec",
   "metadata": {},
   "outputs": [
    {
     "data": {
      "text/html": [
       "<div>\n",
       "<style scoped>\n",
       "    .dataframe tbody tr th:only-of-type {\n",
       "        vertical-align: middle;\n",
       "    }\n",
       "\n",
       "    .dataframe tbody tr th {\n",
       "        vertical-align: top;\n",
       "    }\n",
       "\n",
       "    .dataframe thead th {\n",
       "        text-align: right;\n",
       "    }\n",
       "</style>\n",
       "<table border=\"1\" class=\"dataframe\">\n",
       "  <thead>\n",
       "    <tr style=\"text-align: right;\">\n",
       "      <th></th>\n",
       "      <th>연도</th>\n",
       "      <th>출생아수</th>\n",
       "    </tr>\n",
       "  </thead>\n",
       "  <tbody>\n",
       "    <tr>\n",
       "      <th>0</th>\n",
       "      <td>1951</td>\n",
       "      <td>728175</td>\n",
       "    </tr>\n",
       "    <tr>\n",
       "      <th>1</th>\n",
       "      <td>1952</td>\n",
       "      <td>775630</td>\n",
       "    </tr>\n",
       "    <tr>\n",
       "      <th>2</th>\n",
       "      <td>1953</td>\n",
       "      <td>830330</td>\n",
       "    </tr>\n",
       "    <tr>\n",
       "      <th>3</th>\n",
       "      <td>1954</td>\n",
       "      <td>892236</td>\n",
       "    </tr>\n",
       "    <tr>\n",
       "      <th>4</th>\n",
       "      <td>1955</td>\n",
       "      <td>961055</td>\n",
       "    </tr>\n",
       "    <tr>\n",
       "      <th>...</th>\n",
       "      <td>...</td>\n",
       "      <td>...</td>\n",
       "    </tr>\n",
       "    <tr>\n",
       "      <th>63</th>\n",
       "      <td>2014</td>\n",
       "      <td>435435</td>\n",
       "    </tr>\n",
       "    <tr>\n",
       "      <th>64</th>\n",
       "      <td>2015</td>\n",
       "      <td>438420</td>\n",
       "    </tr>\n",
       "    <tr>\n",
       "      <th>65</th>\n",
       "      <td>2016</td>\n",
       "      <td>406243</td>\n",
       "    </tr>\n",
       "    <tr>\n",
       "      <th>66</th>\n",
       "      <td>2017</td>\n",
       "      <td>357771</td>\n",
       "    </tr>\n",
       "    <tr>\n",
       "      <th>67</th>\n",
       "      <td>2018</td>\n",
       "      <td>326900</td>\n",
       "    </tr>\n",
       "  </tbody>\n",
       "</table>\n",
       "<p>68 rows × 2 columns</p>\n",
       "</div>"
      ],
      "text/plain": [
       "      연도    출생아수\n",
       "0   1951  728175\n",
       "1   1952  775630\n",
       "2   1953  830330\n",
       "3   1954  892236\n",
       "4   1955  961055\n",
       "..   ...     ...\n",
       "63  2014  435435\n",
       "64  2015  438420\n",
       "65  2016  406243\n",
       "66  2017  357771\n",
       "67  2018  326900\n",
       "\n",
       "[68 rows x 2 columns]"
      ]
     },
     "execution_count": 34,
     "metadata": {},
     "output_type": "execute_result"
    }
   ],
   "source": [
    "birthData[ [\"연도\", \"출생아수\"]]"
   ]
  },
  {
   "cell_type": "markdown",
   "id": "00b632bc",
   "metadata": {},
   "source": [
    "### 응용: 행과 열의 선택 / 새로운 DF로 저장"
   ]
  },
  {
   "cell_type": "code",
   "execution_count": 36,
   "id": "ff354113",
   "metadata": {},
   "outputs": [
    {
     "data": {
      "text/plain": [
       "0    728175\n",
       "1    775630\n",
       "2    830330\n",
       "3    892236\n",
       "4    961055\n",
       "Name: 출생아수, dtype: int64"
      ]
     },
     "execution_count": 36,
     "metadata": {},
     "output_type": "execute_result"
    }
   ],
   "source": [
    "df2 = birthData.출생아수[0:5]\n",
    "df2"
   ]
  },
  {
   "cell_type": "code",
   "execution_count": 39,
   "id": "7b6f21ad",
   "metadata": {},
   "outputs": [
    {
     "data": {
      "text/html": [
       "<div>\n",
       "<style scoped>\n",
       "    .dataframe tbody tr th:only-of-type {\n",
       "        vertical-align: middle;\n",
       "    }\n",
       "\n",
       "    .dataframe tbody tr th {\n",
       "        vertical-align: top;\n",
       "    }\n",
       "\n",
       "    .dataframe thead th {\n",
       "        text-align: right;\n",
       "    }\n",
       "</style>\n",
       "<table border=\"1\" class=\"dataframe\">\n",
       "  <thead>\n",
       "    <tr style=\"text-align: right;\">\n",
       "      <th></th>\n",
       "      <th>연도</th>\n",
       "      <th>출생아수</th>\n",
       "    </tr>\n",
       "  </thead>\n",
       "  <tbody>\n",
       "    <tr>\n",
       "      <th>10</th>\n",
       "      <td>1961</td>\n",
       "      <td>1099164</td>\n",
       "    </tr>\n",
       "    <tr>\n",
       "      <th>11</th>\n",
       "      <td>1962</td>\n",
       "      <td>1089951</td>\n",
       "    </tr>\n",
       "    <tr>\n",
       "      <th>12</th>\n",
       "      <td>1963</td>\n",
       "      <td>1075203</td>\n",
       "    </tr>\n",
       "    <tr>\n",
       "      <th>13</th>\n",
       "      <td>1964</td>\n",
       "      <td>1057241</td>\n",
       "    </tr>\n",
       "    <tr>\n",
       "      <th>14</th>\n",
       "      <td>1965</td>\n",
       "      <td>1040544</td>\n",
       "    </tr>\n",
       "  </tbody>\n",
       "</table>\n",
       "</div>"
      ],
      "text/plain": [
       "      연도     출생아수\n",
       "10  1961  1099164\n",
       "11  1962  1089951\n",
       "12  1963  1075203\n",
       "13  1964  1057241\n",
       "14  1965  1040544"
      ]
     },
     "execution_count": 39,
     "metadata": {},
     "output_type": "execute_result"
    }
   ],
   "source": [
    "df3 = birthData[ [\"연도\", \"출생아수\"] ][10:15]\n",
    "df3"
   ]
  },
  {
   "cell_type": "markdown",
   "id": "cbf4f78b",
   "metadata": {},
   "source": [
    "# 조건에 맞는 데이터 선택하기"
   ]
  },
  {
   "cell_type": "markdown",
   "id": "340fd2e2",
   "metadata": {},
   "source": [
    "### query 질의 함수 활용하기"
   ]
  },
  {
   "cell_type": "markdown",
   "id": "31836391",
   "metadata": {},
   "source": [
    "##### 1990년부터 2000년까지의 데이터"
   ]
  },
  {
   "cell_type": "code",
   "execution_count": 40,
   "id": "7dc65ef7",
   "metadata": {},
   "outputs": [
    {
     "data": {
      "text/html": [
       "<div>\n",
       "<style scoped>\n",
       "    .dataframe tbody tr th:only-of-type {\n",
       "        vertical-align: middle;\n",
       "    }\n",
       "\n",
       "    .dataframe tbody tr th {\n",
       "        vertical-align: top;\n",
       "    }\n",
       "\n",
       "    .dataframe thead th {\n",
       "        text-align: right;\n",
       "    }\n",
       "</style>\n",
       "<table border=\"1\" class=\"dataframe\">\n",
       "  <thead>\n",
       "    <tr style=\"text-align: right;\">\n",
       "      <th></th>\n",
       "      <th>연도</th>\n",
       "      <th>출생아수</th>\n",
       "      <th>천명당출생률</th>\n",
       "    </tr>\n",
       "  </thead>\n",
       "  <tbody>\n",
       "    <tr>\n",
       "      <th>39</th>\n",
       "      <td>1990</td>\n",
       "      <td>649738</td>\n",
       "      <td>15.2</td>\n",
       "    </tr>\n",
       "    <tr>\n",
       "      <th>40</th>\n",
       "      <td>1991</td>\n",
       "      <td>709275</td>\n",
       "      <td>16.4</td>\n",
       "    </tr>\n",
       "    <tr>\n",
       "      <th>41</th>\n",
       "      <td>1992</td>\n",
       "      <td>730678</td>\n",
       "      <td>16.7</td>\n",
       "    </tr>\n",
       "    <tr>\n",
       "      <th>42</th>\n",
       "      <td>1993</td>\n",
       "      <td>715826</td>\n",
       "      <td>16.0</td>\n",
       "    </tr>\n",
       "    <tr>\n",
       "      <th>43</th>\n",
       "      <td>1994</td>\n",
       "      <td>721185</td>\n",
       "      <td>16.0</td>\n",
       "    </tr>\n",
       "    <tr>\n",
       "      <th>44</th>\n",
       "      <td>1995</td>\n",
       "      <td>715020</td>\n",
       "      <td>15.7</td>\n",
       "    </tr>\n",
       "    <tr>\n",
       "      <th>45</th>\n",
       "      <td>1996</td>\n",
       "      <td>691226</td>\n",
       "      <td>15.0</td>\n",
       "    </tr>\n",
       "    <tr>\n",
       "      <th>46</th>\n",
       "      <td>1997</td>\n",
       "      <td>668344</td>\n",
       "      <td>14.4</td>\n",
       "    </tr>\n",
       "    <tr>\n",
       "      <th>47</th>\n",
       "      <td>1998</td>\n",
       "      <td>634790</td>\n",
       "      <td>13.6</td>\n",
       "    </tr>\n",
       "    <tr>\n",
       "      <th>48</th>\n",
       "      <td>1999</td>\n",
       "      <td>614233</td>\n",
       "      <td>13.0</td>\n",
       "    </tr>\n",
       "    <tr>\n",
       "      <th>49</th>\n",
       "      <td>2000</td>\n",
       "      <td>634501</td>\n",
       "      <td>13.3</td>\n",
       "    </tr>\n",
       "  </tbody>\n",
       "</table>\n",
       "</div>"
      ],
      "text/plain": [
       "      연도    출생아수  천명당출생률\n",
       "39  1990  649738    15.2\n",
       "40  1991  709275    16.4\n",
       "41  1992  730678    16.7\n",
       "42  1993  715826    16.0\n",
       "43  1994  721185    16.0\n",
       "44  1995  715020    15.7\n",
       "45  1996  691226    15.0\n",
       "46  1997  668344    14.4\n",
       "47  1998  634790    13.6\n",
       "48  1999  614233    13.0\n",
       "49  2000  634501    13.3"
      ]
     },
     "execution_count": 40,
     "metadata": {},
     "output_type": "execute_result"
    }
   ],
   "source": [
    "birthData.query('1990<=연도<=2000')"
   ]
  },
  {
   "cell_type": "markdown",
   "id": "763e1878",
   "metadata": {},
   "source": [
    "##### 2000년 이후 50만명 이상 출생한 연도 데이터"
   ]
  },
  {
   "cell_type": "code",
   "execution_count": 42,
   "id": "e0d27ae2",
   "metadata": {},
   "outputs": [
    {
     "data": {
      "text/html": [
       "<div>\n",
       "<style scoped>\n",
       "    .dataframe tbody tr th:only-of-type {\n",
       "        vertical-align: middle;\n",
       "    }\n",
       "\n",
       "    .dataframe tbody tr th {\n",
       "        vertical-align: top;\n",
       "    }\n",
       "\n",
       "    .dataframe thead th {\n",
       "        text-align: right;\n",
       "    }\n",
       "</style>\n",
       "<table border=\"1\" class=\"dataframe\">\n",
       "  <thead>\n",
       "    <tr style=\"text-align: right;\">\n",
       "      <th></th>\n",
       "      <th>연도</th>\n",
       "      <th>출생아수</th>\n",
       "      <th>천명당출생률</th>\n",
       "    </tr>\n",
       "  </thead>\n",
       "  <tbody>\n",
       "    <tr>\n",
       "      <th>49</th>\n",
       "      <td>2000</td>\n",
       "      <td>634501</td>\n",
       "      <td>13.3</td>\n",
       "    </tr>\n",
       "    <tr>\n",
       "      <th>50</th>\n",
       "      <td>2001</td>\n",
       "      <td>554895</td>\n",
       "      <td>11.6</td>\n",
       "    </tr>\n",
       "    <tr>\n",
       "      <th>51</th>\n",
       "      <td>2002</td>\n",
       "      <td>492111</td>\n",
       "      <td>10.2</td>\n",
       "    </tr>\n",
       "    <tr>\n",
       "      <th>52</th>\n",
       "      <td>2003</td>\n",
       "      <td>490543</td>\n",
       "      <td>10.2</td>\n",
       "    </tr>\n",
       "    <tr>\n",
       "      <th>53</th>\n",
       "      <td>2004</td>\n",
       "      <td>472761</td>\n",
       "      <td>9.8</td>\n",
       "    </tr>\n",
       "    <tr>\n",
       "      <th>54</th>\n",
       "      <td>2005</td>\n",
       "      <td>435031</td>\n",
       "      <td>8.9</td>\n",
       "    </tr>\n",
       "    <tr>\n",
       "      <th>55</th>\n",
       "      <td>2006</td>\n",
       "      <td>448153</td>\n",
       "      <td>9.2</td>\n",
       "    </tr>\n",
       "    <tr>\n",
       "      <th>56</th>\n",
       "      <td>2007</td>\n",
       "      <td>493189</td>\n",
       "      <td>10.0</td>\n",
       "    </tr>\n",
       "    <tr>\n",
       "      <th>57</th>\n",
       "      <td>2008</td>\n",
       "      <td>465892</td>\n",
       "      <td>9.4</td>\n",
       "    </tr>\n",
       "    <tr>\n",
       "      <th>58</th>\n",
       "      <td>2009</td>\n",
       "      <td>444849</td>\n",
       "      <td>9.0</td>\n",
       "    </tr>\n",
       "    <tr>\n",
       "      <th>59</th>\n",
       "      <td>2010</td>\n",
       "      <td>470171</td>\n",
       "      <td>9.4</td>\n",
       "    </tr>\n",
       "    <tr>\n",
       "      <th>60</th>\n",
       "      <td>2011</td>\n",
       "      <td>471265</td>\n",
       "      <td>9.4</td>\n",
       "    </tr>\n",
       "    <tr>\n",
       "      <th>61</th>\n",
       "      <td>2012</td>\n",
       "      <td>484550</td>\n",
       "      <td>9.6</td>\n",
       "    </tr>\n",
       "    <tr>\n",
       "      <th>62</th>\n",
       "      <td>2013</td>\n",
       "      <td>436455</td>\n",
       "      <td>8.6</td>\n",
       "    </tr>\n",
       "    <tr>\n",
       "      <th>63</th>\n",
       "      <td>2014</td>\n",
       "      <td>435435</td>\n",
       "      <td>8.6</td>\n",
       "    </tr>\n",
       "    <tr>\n",
       "      <th>64</th>\n",
       "      <td>2015</td>\n",
       "      <td>438420</td>\n",
       "      <td>8.6</td>\n",
       "    </tr>\n",
       "    <tr>\n",
       "      <th>65</th>\n",
       "      <td>2016</td>\n",
       "      <td>406243</td>\n",
       "      <td>7.9</td>\n",
       "    </tr>\n",
       "    <tr>\n",
       "      <th>66</th>\n",
       "      <td>2017</td>\n",
       "      <td>357771</td>\n",
       "      <td>7.0</td>\n",
       "    </tr>\n",
       "    <tr>\n",
       "      <th>67</th>\n",
       "      <td>2018</td>\n",
       "      <td>326900</td>\n",
       "      <td>6.4</td>\n",
       "    </tr>\n",
       "  </tbody>\n",
       "</table>\n",
       "</div>"
      ],
      "text/plain": [
       "      연도    출생아수  천명당출생률\n",
       "49  2000  634501    13.3\n",
       "50  2001  554895    11.6\n",
       "51  2002  492111    10.2\n",
       "52  2003  490543    10.2\n",
       "53  2004  472761     9.8\n",
       "54  2005  435031     8.9\n",
       "55  2006  448153     9.2\n",
       "56  2007  493189    10.0\n",
       "57  2008  465892     9.4\n",
       "58  2009  444849     9.0\n",
       "59  2010  470171     9.4\n",
       "60  2011  471265     9.4\n",
       "61  2012  484550     9.6\n",
       "62  2013  436455     8.6\n",
       "63  2014  435435     8.6\n",
       "64  2015  438420     8.6\n",
       "65  2016  406243     7.9\n",
       "66  2017  357771     7.0\n",
       "67  2018  326900     6.4"
      ]
     },
     "execution_count": 42,
     "metadata": {},
     "output_type": "execute_result"
    }
   ],
   "source": [
    "birthData.query(\"연도>=2000 and 출생아수>=50000\")"
   ]
  }
 ],
 "metadata": {
  "kernelspec": {
   "display_name": "Python 3 (ipykernel)",
   "language": "python",
   "name": "python3"
  },
  "language_info": {
   "codemirror_mode": {
    "name": "ipython",
    "version": 3
   },
   "file_extension": ".py",
   "mimetype": "text/x-python",
   "name": "python",
   "nbconvert_exporter": "python",
   "pygments_lexer": "ipython3",
   "version": "3.9.12"
  }
 },
 "nbformat": 4,
 "nbformat_minor": 5
}
